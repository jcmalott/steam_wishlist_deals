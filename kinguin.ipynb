{
 "cells": [
  {
   "cell_type": "markdown",
   "metadata": {},
   "source": [
    "### KINGUIN\n"
   ]
  },
  {
   "cell_type": "code",
   "execution_count": null,
   "metadata": {},
   "outputs": [],
   "source": [
    "# Get lowest price from SteamDB"
   ]
  },
  {
   "cell_type": "code",
   "execution_count": null,
   "metadata": {},
   "outputs": [],
   "source": [
    "!pip install gradio"
   ]
  },
  {
   "cell_type": "code",
   "execution_count": 1,
   "metadata": {},
   "outputs": [],
   "source": [
    "import os\n",
    "from dotenv import load_dotenv\n",
    "import time\n",
    "from typing import Dict, Any\n",
    "from tqdm import tqdm\n",
    "import gradio as gr\n",
    "from PIL import Image\n",
    "import webbrowser"
   ]
  },
  {
   "cell_type": "code",
   "execution_count": 4,
   "metadata": {},
   "outputs": [],
   "source": [
    "from src.steam_api import Steam\n",
    "from src.exchange_rates import ExchangeRates\n",
    "from src.gg_deals_api import GGDealsAPI"
   ]
  },
  {
   "cell_type": "code",
   "execution_count": 5,
   "metadata": {},
   "outputs": [],
   "source": [
    "load_dotenv()\n",
    "GG_DEALS_API_KEY = os.getenv('GG_DEALS_API')\n",
    "STEAM_KEY_API = os.getenv('STEAM_API_KEY')\n",
    "STEAM_USER_ID=76561198041511379"
   ]
  },
  {
   "cell_type": "code",
   "execution_count": 6,
   "metadata": {},
   "outputs": [
    {
     "name": "stderr",
     "output_type": "stream",
     "text": [
      "2025-05-27 12:02:48,343 - src.exchange_rates - INFO - Exchange Rates have been stored within last 24 hours.\n",
      "2025-05-27 12:02:48,344 - src.exchange_rates - INFO - Exchange Rates have been stored within last 24 hours.\n"
     ]
    }
   ],
   "source": [
    "steam = Steam(STEAM_KEY_API, \"data\\steam\")\n",
    "gg_deals = GGDealsAPI(GG_DEALS_API_KEY,\"data\\ggdeals\")"
   ]
  },
  {
   "cell_type": "code",
   "execution_count": 7,
   "metadata": {},
   "outputs": [
    {
     "name": "stderr",
     "output_type": "stream",
     "text": [
      "2025-05-27 12:03:40,462 - src.steam_api - INFO - Getting wishlist for user 76561198041511379\n",
      "2025-05-27 12:03:40,477 - src.game_api - INFO - Loading Stored Data: data\\steam\\steam_games-76561198041511379.json\n",
      "2025-05-27 12:03:40,493 - src.game_api - INFO - All game data already retrieved, nothing to fetch\n"
     ]
    }
   ],
   "source": [
    "wishlist = steam.get_wishlist('76561198041511379')"
   ]
  },
  {
   "cell_type": "code",
   "execution_count": 9,
   "metadata": {},
   "outputs": [
    {
     "name": "stderr",
     "output_type": "stream",
     "text": [
      "2025-05-27 12:04:50,397 - src.gg_deals_api - INFO - Retrieving mulitple game product details\n",
      "Downloading Game Data:   0%|          | 0/2 [00:00<?, ?game/s]\n"
     ]
    },
    {
     "ename": "TypeError",
     "evalue": "'module' object is not callable",
     "output_type": "error",
     "traceback": [
      "\u001b[1;31m---------------------------------------------------------------------------\u001b[0m",
      "\u001b[1;31mTypeError\u001b[0m                                 Traceback (most recent call last)",
      "Cell \u001b[1;32mIn[9], line 1\u001b[0m\n\u001b[1;32m----> 1\u001b[0m gg_deals\u001b[38;5;241m.\u001b[39mfind_products_by_name(wishlist[:\u001b[38;5;241m2\u001b[39m],\u001b[38;5;124m'\u001b[39m\u001b[38;5;124m76561198041511379\u001b[39m\u001b[38;5;124m'\u001b[39m)\n",
      "File \u001b[1;32me:\\JC\\Learning\\Programming\\Web Development\\Projects\\Steam_Deals\\src\\gg_deals_api.py:58\u001b[0m, in \u001b[0;36mGGDealsAPI.find_products_by_name\u001b[1;34m(self, products, user_id)\u001b[0m\n\u001b[0;32m     55\u001b[0m     uniques \u001b[38;5;241m=\u001b[39m [product[\u001b[38;5;124m\"\u001b[39m\u001b[38;5;124mappid\u001b[39m\u001b[38;5;124m\"\u001b[39m] \u001b[38;5;28;01mfor\u001b[39;00m product \u001b[38;5;129;01min\u001b[39;00m products]\n\u001b[0;32m     56\u001b[0m     \u001b[38;5;66;03m# uniques = products['unique']\u001b[39;00m\n\u001b[0;32m     57\u001b[0m     \u001b[38;5;66;03m# Download fresh data for each unique game name\u001b[39;00m\n\u001b[1;32m---> 58\u001b[0m     \u001b[38;5;28msuper\u001b[39m()\u001b[38;5;241m.\u001b[39mdownload_data(\u001b[38;5;28mself\u001b[39m\u001b[38;5;241m.\u001b[39m_process_json, params, uniques)\n\u001b[0;32m     59\u001b[0m \u001b[38;5;28;01melse\u001b[39;00m:\n\u001b[0;32m     60\u001b[0m     \u001b[38;5;66;03m# files have a record of which games should be downloaded\u001b[39;00m\n\u001b[0;32m     61\u001b[0m     \u001b[38;5;66;03m# this is checking to make sure all games are downloaded\u001b[39;00m\n\u001b[0;32m     62\u001b[0m     \u001b[38;5;28msuper\u001b[39m()\u001b[38;5;241m.\u001b[39mdownload_data(\u001b[38;5;28mself\u001b[39m\u001b[38;5;241m.\u001b[39m_process_json, params)\n",
      "File \u001b[1;32me:\\JC\\Learning\\Programming\\Web Development\\Projects\\Steam_Deals\\src\\game_api.py:82\u001b[0m, in \u001b[0;36mGameAPI.download_data\u001b[1;34m(self, func_process, params, uniques, headers)\u001b[0m\n\u001b[0;32m     78\u001b[0m params[primary_key] \u001b[38;5;241m=\u001b[39m \u001b[38;5;28mid\u001b[39m\n\u001b[0;32m     80\u001b[0m \u001b[38;5;28;01mtry\u001b[39;00m:\n\u001b[0;32m     81\u001b[0m     \u001b[38;5;66;03m# return any items found from search\u001b[39;00m\n\u001b[1;32m---> 82\u001b[0m     response \u001b[38;5;241m=\u001b[39m requests(\u001b[38;5;28mself\u001b[39m\u001b[38;5;241m.\u001b[39msession, \u001b[38;5;28mself\u001b[39m\u001b[38;5;241m.\u001b[39mbase_url_api, params\u001b[38;5;241m=\u001b[39mparams)\n\u001b[0;32m     83\u001b[0m     response\u001b[38;5;241m.\u001b[39mraise_for_status()\n\u001b[0;32m     85\u001b[0m     \u001b[38;5;66;03m# function to process any data that was recieved\u001b[39;00m\n",
      "\u001b[1;31mTypeError\u001b[0m: 'module' object is not callable"
     ]
    }
   ],
   "source": [
    "gg_deals.find_products_by_name(wishlist[:2],'76561198041511379')"
   ]
  },
  {
   "cell_type": "markdown",
   "metadata": {},
   "source": [
    "### KENGUIN\n"
   ]
  },
  {
   "cell_type": "code",
   "execution_count": null,
   "metadata": {},
   "outputs": [],
   "source": [
    "# https://static.g2a.com/_/User-guide-to-api.pdf"
   ]
  },
  {
   "cell_type": "code",
   "execution_count": 12,
   "metadata": {},
   "outputs": [],
   "source": [
    "def test_progress(word, progress=gr.Progress(track_tqdm=True)):\n",
    "    # progress(0, desc=\"Starting\")\n",
    "    iterations = 50\n",
    "    # display progress bar for overall download\n",
    "    with tqdm(total=iterations, desc=\"Downloading Game Data\", unit='game') as pbar:  \n",
    "        # download the games in batches to not overload the server  \n",
    "        for i in range(0, iterations, 10):\n",
    "            time.sleep(1)\n",
    "            pbar.update(10)"
   ]
  },
  {
   "cell_type": "code",
   "execution_count": null,
   "metadata": {},
   "outputs": [],
   "source": [
    "with gr.Blocks(theme='soft') as ui:\n",
    "    gr.Markdown(\"# Steam Wishlist Prices\", elem_classes='title')\n",
    "    with gr.Row(elem_id='steam_id_row'):\n",
    "        gr.Button('Steam User ID', elem_classes='label', interactive=False)\n",
    "        with gr.Column():\n",
    "            text = gr.Textbox()\n",
    "            \n",
    "        text.submit(test_progress, [text], [text])"
   ]
  },
  {
   "cell_type": "code",
   "execution_count": 10,
   "metadata": {},
   "outputs": [
    {
     "name": "stdout",
     "output_type": "stream",
     "text": [
      "* Running on local URL:  http://127.0.0.1:7862\n",
      "\n",
      "To create a public link, set `share=True` in `launch()`.\n"
     ]
    },
    {
     "data": {
      "text/html": [
       "<div><iframe src=\"http://127.0.0.1:7862/\" width=\"100%\" height=\"500\" allow=\"autoplay; camera; microphone; clipboard-read; clipboard-write;\" frameborder=\"0\" allowfullscreen></iframe></div>"
      ],
      "text/plain": [
       "<IPython.core.display.HTML object>"
      ]
     },
     "metadata": {},
     "output_type": "display_data"
    },
    {
     "data": {
      "text/plain": []
     },
     "execution_count": 10,
     "metadata": {},
     "output_type": "execute_result"
    }
   ],
   "source": [
    "# demo = gr.Interface(test_progress, gr.Text(), gr.Text())\n",
    "ui.launch()"
   ]
  }
 ],
 "metadata": {
  "kernelspec": {
   "display_name": "base",
   "language": "python",
   "name": "python3"
  },
  "language_info": {
   "codemirror_mode": {
    "name": "ipython",
    "version": 3
   },
   "file_extension": ".py",
   "mimetype": "text/x-python",
   "name": "python",
   "nbconvert_exporter": "python",
   "pygments_lexer": "ipython3",
   "version": "3.11.7"
  }
 },
 "nbformat": 4,
 "nbformat_minor": 2
}
